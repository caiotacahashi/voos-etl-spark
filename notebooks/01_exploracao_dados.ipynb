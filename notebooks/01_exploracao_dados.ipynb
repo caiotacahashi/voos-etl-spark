{
 "cells": [
  {
   "cell_type": "code",
   "execution_count": 32,
   "id": "7931f960",
   "metadata": {},
   "outputs": [],
   "source": [
    "from pyspark.sql import SparkSession\n",
    "from pyspark.sql.functions import col"
   ]
  },
  {
   "cell_type": "code",
   "execution_count": 33,
   "id": "1e9e5b82",
   "metadata": {},
   "outputs": [],
   "source": [
    "spark = SparkSession.builder \\\n",
    "    .appName(\"ExploracaoDadosVoos\") \\\n",
    "    .getOrCreate()"
   ]
  },
  {
   "cell_type": "markdown",
   "id": "1fbe0105",
   "metadata": {},
   "source": [
    "## Carregando os Dados"
   ]
  },
  {
   "cell_type": "code",
   "execution_count": 34,
   "id": "fe321cf2",
   "metadata": {},
   "outputs": [
    {
     "name": "stdout",
     "output_type": "stream",
     "text": [
      "root\n",
      " |-- _c0: integer (nullable = true)\n",
      " |-- YEAR: integer (nullable = true)\n",
      " |-- MONTH: integer (nullable = true)\n",
      " |-- FL_DATE: string (nullable = true)\n",
      " |-- OP_UNIQUE_CARRIER: string (nullable = true)\n",
      " |-- OP_CARRIER_FL_NUM: integer (nullable = true)\n",
      " |-- ORIGIN_AIRPORT_ID: integer (nullable = true)\n",
      " |-- DEST_AIRPORT_ID: integer (nullable = true)\n",
      " |-- DEP_DELAY: string (nullable = true)\n",
      " |-- DEP_DELAY_NEW: string (nullable = true)\n",
      " |-- DEP_DEL15: string (nullable = true)\n",
      " |-- DEP_DELAY_GROUP: string (nullable = true)\n",
      " |-- ARR_DELAY: string (nullable = true)\n",
      " |-- ARR_DELAY_NEW: string (nullable = true)\n",
      " |-- ARR_DEL15: string (nullable = true)\n",
      " |-- ARR_DELAY_GROUP: string (nullable = true)\n",
      " |-- CANCELLED: integer (nullable = true)\n",
      " |-- CANCELLATION_CODE: string (nullable = true)\n",
      " |-- DIVERTED: integer (nullable = true)\n",
      " |-- CARRIER_DELAY: string (nullable = true)\n",
      " |-- WEATHER_DELAY: string (nullable = true)\n",
      " |-- NAS_DELAY: string (nullable = true)\n",
      " |-- SECURITY_DELAY: string (nullable = true)\n",
      " |-- LATE_AIRCRAFT_DELAY: string (nullable = true)\n",
      "\n"
     ]
    }
   ],
   "source": [
    "data_path = \"../data/raw/alljoined_airlines.csv\"\n",
    "\n",
    "df = spark.read.csv(data_path, header=True, inferSchema=True)\n",
    "df.printSchema()"
   ]
  },
  {
   "cell_type": "code",
   "execution_count": 35,
   "id": "7b12b42a",
   "metadata": {},
   "outputs": [
    {
     "name": "stdout",
     "output_type": "stream",
     "text": [
      "+---+----+-----+-------------+-----------------+-----------------+-----------------+---------------+---------+-------------+---------+---------------+---------+-------------+---------+---------------+---------+-----------------+--------+-------------+-------------+---------+--------------+-------------------+\n",
      "|_c0|YEAR|MONTH|      FL_DATE|OP_UNIQUE_CARRIER|OP_CARRIER_FL_NUM|ORIGIN_AIRPORT_ID|DEST_AIRPORT_ID|DEP_DELAY|DEP_DELAY_NEW|DEP_DEL15|DEP_DELAY_GROUP|ARR_DELAY|ARR_DELAY_NEW|ARR_DEL15|ARR_DELAY_GROUP|CANCELLED|CANCELLATION_CODE|DIVERTED|CARRIER_DELAY|WEATHER_DELAY|NAS_DELAY|SECURITY_DELAY|LATE_AIRCRAFT_DELAY|\n",
      "+---+----+-----+-------------+-----------------+-----------------+-----------------+---------------+---------+-------------+---------+---------------+---------+-------------+---------+---------------+---------+-----------------+--------+-------------+-------------+---------+--------------+-------------------+\n",
      "|  1|2018|    1|1/26/18 00:00|               UA|             1252|            14683|          12266|       -7|            0|        0|             -1|      -12|            0|        0|             -1|        0|               NA|       0|           NA|           NA|       NA|            NA|                 NA|\n",
      "|  2|2018|    1|1/26/18 00:00|               UA|             1251|            10721|          13930|       -9|            0|        0|             -1|      -26|            0|        0|             -2|        0|               NA|       0|           NA|           NA|       NA|            NA|                 NA|\n",
      "|  3|2018|    1|1/26/18 00:00|               UA|             1250|            13930|          11423|        7|            7|        0|              0|        7|            7|        0|              0|        0|               NA|       0|           NA|           NA|       NA|            NA|                 NA|\n",
      "|  4|2018|    1|1/26/18 00:00|               UA|             1248|            11618|          13930|       -8|            0|        0|             -1|      -27|            0|        0|             -2|        0|               NA|       0|           NA|           NA|       NA|            NA|                 NA|\n",
      "|  5|2018|    1|1/26/18 00:00|               UA|             1247|            11278|          12266|       -7|            0|        0|             -1|        1|            1|        0|              0|        0|               NA|       0|           NA|           NA|       NA|            NA|                 NA|\n",
      "+---+----+-----+-------------+-----------------+-----------------+-----------------+---------------+---------+-------------+---------+---------------+---------+-------------+---------+---------------+---------+-----------------+--------+-------------+-------------+---------+--------------+-------------------+\n",
      "only showing top 5 rows\n",
      "\n"
     ]
    }
   ],
   "source": [
    "df.show(5)"
   ]
  },
  {
   "cell_type": "markdown",
   "id": "afe35351",
   "metadata": {},
   "source": [
    "### Número total de registros"
   ]
  },
  {
   "cell_type": "code",
   "execution_count": 36,
   "id": "a1f84ae2",
   "metadata": {},
   "outputs": [
    {
     "name": "stdout",
     "output_type": "stream",
     "text": [
      "Número total de registros: 19,174,431\n"
     ]
    }
   ],
   "source": [
    "print(f\"Número total de registros: {df.count():,}\")"
   ]
  },
  {
   "cell_type": "code",
   "execution_count": 37,
   "id": "21118d13",
   "metadata": {},
   "outputs": [
    {
     "name": "stdout",
     "output_type": "stream",
     "text": [
      "Colunas disponíveis:\n",
      "['_c0', 'YEAR', 'MONTH', 'FL_DATE', 'OP_UNIQUE_CARRIER', 'OP_CARRIER_FL_NUM', 'ORIGIN_AIRPORT_ID', 'DEST_AIRPORT_ID', 'DEP_DELAY', 'DEP_DELAY_NEW', 'DEP_DEL15', 'DEP_DELAY_GROUP', 'ARR_DELAY', 'ARR_DELAY_NEW', 'ARR_DEL15', 'ARR_DELAY_GROUP', 'CANCELLED', 'CANCELLATION_CODE', 'DIVERTED', 'CARRIER_DELAY', 'WEATHER_DELAY', 'NAS_DELAY', 'SECURITY_DELAY', 'LATE_AIRCRAFT_DELAY']\n"
     ]
    }
   ],
   "source": [
    "print(\"Colunas disponíveis:\")\n",
    "print(df.columns)"
   ]
  },
  {
   "cell_type": "markdown",
   "id": "761b8187",
   "metadata": {},
   "source": [
    "### Verificando Valores Nulos"
   ]
  },
  {
   "cell_type": "code",
   "execution_count": 38,
   "id": "50299638",
   "metadata": {},
   "outputs": [],
   "source": [
    "from pyspark.sql.functions import isnan, when, count"
   ]
  },
  {
   "cell_type": "code",
   "execution_count": 39,
   "id": "70c30ccc",
   "metadata": {},
   "outputs": [
    {
     "name": "stdout",
     "output_type": "stream",
     "text": [
      "+---+----+-----+-------+-----------------+-----------------+-----------------+---------------+---------+-------------+---------+---------------+---------+-------------+---------+---------------+---------+-----------------+--------+-------------+-------------+---------+--------------+-------------------+\n",
      "|_c0|YEAR|MONTH|FL_DATE|OP_UNIQUE_CARRIER|OP_CARRIER_FL_NUM|ORIGIN_AIRPORT_ID|DEST_AIRPORT_ID|DEP_DELAY|DEP_DELAY_NEW|DEP_DEL15|DEP_DELAY_GROUP|ARR_DELAY|ARR_DELAY_NEW|ARR_DEL15|ARR_DELAY_GROUP|CANCELLED|CANCELLATION_CODE|DIVERTED|CARRIER_DELAY|WEATHER_DELAY|NAS_DELAY|SECURITY_DELAY|LATE_AIRCRAFT_DELAY|\n",
      "+---+----+-----+-------+-----------------+-----------------+-----------------+---------------+---------+-------------+---------+---------------+---------+-------------+---------+---------------+---------+-----------------+--------+-------------+-------------+---------+--------------+-------------------+\n",
      "|  0|   0|    0|      0|                0|                0|                0|              0|        0|            0|        0|              0|        0|            0|        0|              0|        0|         13897806|       0|            0|            0|        0|             0|                  0|\n",
      "+---+----+-----+-------+-----------------+-----------------+-----------------+---------------+---------+-------------+---------+---------------+---------+-------------+---------+---------------+---------+-----------------+--------+-------------+-------------+---------+--------------+-------------------+\n",
      "\n"
     ]
    }
   ],
   "source": [
    "df.select([count(when(col(c).isNull() | isnan(c), c)).alias(c) for c in df.columns]).show()"
   ]
  },
  {
   "cell_type": "markdown",
   "id": "b2c36deb",
   "metadata": {},
   "source": [
    "### Voos por Ano"
   ]
  },
  {
   "cell_type": "code",
   "execution_count": 40,
   "id": "0c929751",
   "metadata": {},
   "outputs": [
    {
     "name": "stdout",
     "output_type": "stream",
     "text": [
      "+----+------------+\n",
      "|year|voos_por_ano|\n",
      "+----+------------+\n",
      "|2018|     4867146|\n",
      "|2019|     5020429|\n",
      "|2020|     3067969|\n",
      "|2021|     3892457|\n",
      "|2022|     2326430|\n",
      "+----+------------+\n",
      "\n"
     ]
    }
   ],
   "source": [
    "df.groupBy(\"year\").count().withColumnRenamed(\"count\", \"voos_por_ano\").orderBy(\"year\").show()"
   ]
  },
  {
   "cell_type": "code",
   "execution_count": 50,
   "id": "8818926b",
   "metadata": {},
   "outputs": [
    {
     "name": "stdout",
     "output_type": "stream",
     "text": [
      "+-----+------------+\n",
      "|month|voos_por_mes|\n",
      "+-----+------------+\n",
      "|    1|     1756591|\n",
      "|    2|     1628973|\n",
      "|    3|     1947389|\n",
      "|    4|     1314594|\n",
      "|    5|     1682637|\n",
      "|    6|     1767378|\n",
      "|    7|     1929255|\n",
      "|    8|     1507554|\n",
      "|    9|     1359196|\n",
      "|   10|     1446441|\n",
      "|   11|     1408958|\n",
      "|   12|     1425465|\n",
      "+-----+------------+\n",
      "\n"
     ]
    }
   ],
   "source": [
    "df.groupBy(\"month\").count().withColumnRenamed(\"count\", \"voos_por_mes\").orderBy(\"month\").show()"
   ]
  },
  {
   "cell_type": "code",
   "execution_count": 51,
   "id": "846f670e",
   "metadata": {},
   "outputs": [],
   "source": [
    "spark.stop()"
   ]
  }
 ],
 "metadata": {
  "kernelspec": {
   "display_name": "Python 3",
   "language": "python",
   "name": "python3"
  },
  "language_info": {
   "codemirror_mode": {
    "name": "ipython",
    "version": 3
   },
   "file_extension": ".py",
   "mimetype": "text/x-python",
   "name": "python",
   "nbconvert_exporter": "python",
   "pygments_lexer": "ipython3",
   "version": "3.12.2"
  }
 },
 "nbformat": 4,
 "nbformat_minor": 5
}
