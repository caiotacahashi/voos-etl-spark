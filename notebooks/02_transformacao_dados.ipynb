{
 "cells": [
  {
   "cell_type": "code",
   "execution_count": 32,
   "id": "9cf44a7b",
   "metadata": {},
   "outputs": [],
   "source": [
    "from pyspark.sql import SparkSession\n",
    "from pyspark.sql.functions import col, when, count, isnan\n",
    "from pyspark.sql.types import DoubleType, IntegerType"
   ]
  },
  {
   "cell_type": "code",
   "execution_count": 3,
   "id": "b6c457fd",
   "metadata": {},
   "outputs": [],
   "source": [
    "spark = SparkSession.builder \\\n",
    "  .appName(\"TransformacaoDados\") \\\n",
    "  .getOrCreate()"
   ]
  },
  {
   "cell_type": "markdown",
   "id": "c5cebb8d",
   "metadata": {},
   "source": [
    "## Leitura dos Dados"
   ]
  },
  {
   "cell_type": "code",
   "execution_count": 17,
   "id": "88e4c0e7",
   "metadata": {},
   "outputs": [
    {
     "name": "stdout",
     "output_type": "stream",
     "text": [
      "root\n",
      " |-- _c0: integer (nullable = true)\n",
      " |-- YEAR: integer (nullable = true)\n",
      " |-- MONTH: integer (nullable = true)\n",
      " |-- FL_DATE: string (nullable = true)\n",
      " |-- OP_UNIQUE_CARRIER: string (nullable = true)\n",
      " |-- OP_CARRIER_FL_NUM: integer (nullable = true)\n",
      " |-- ORIGIN_AIRPORT_ID: integer (nullable = true)\n",
      " |-- DEST_AIRPORT_ID: integer (nullable = true)\n",
      " |-- DEP_DELAY: string (nullable = true)\n",
      " |-- DEP_DELAY_NEW: string (nullable = true)\n",
      " |-- DEP_DEL15: string (nullable = true)\n",
      " |-- DEP_DELAY_GROUP: string (nullable = true)\n",
      " |-- ARR_DELAY: string (nullable = true)\n",
      " |-- ARR_DELAY_NEW: string (nullable = true)\n",
      " |-- ARR_DEL15: string (nullable = true)\n",
      " |-- ARR_DELAY_GROUP: string (nullable = true)\n",
      " |-- CANCELLED: integer (nullable = true)\n",
      " |-- CANCELLATION_CODE: string (nullable = true)\n",
      " |-- DIVERTED: integer (nullable = true)\n",
      " |-- CARRIER_DELAY: string (nullable = true)\n",
      " |-- WEATHER_DELAY: string (nullable = true)\n",
      " |-- NAS_DELAY: string (nullable = true)\n",
      " |-- SECURITY_DELAY: string (nullable = true)\n",
      " |-- LATE_AIRCRAFT_DELAY: string (nullable = true)\n",
      "\n"
     ]
    }
   ],
   "source": [
    "data_path = \"../data/raw/alljoined_airlines.csv\"\n",
    "df = spark.read.csv(data_path, header=True, inferSchema=True)\n",
    "df.printSchema()"
   ]
  },
  {
   "cell_type": "code",
   "execution_count": 18,
   "id": "f8e1bb3d",
   "metadata": {},
   "outputs": [
    {
     "name": "stdout",
     "output_type": "stream",
     "text": [
      "+---+----+-----+-------------+-----------------+-----------------+-----------------+---------------+---------+-------------+---------+---------------+---------+-------------+---------+---------------+---------+-----------------+--------+-------------+-------------+---------+--------------+-------------------+\n",
      "|_c0|YEAR|MONTH|      FL_DATE|OP_UNIQUE_CARRIER|OP_CARRIER_FL_NUM|ORIGIN_AIRPORT_ID|DEST_AIRPORT_ID|DEP_DELAY|DEP_DELAY_NEW|DEP_DEL15|DEP_DELAY_GROUP|ARR_DELAY|ARR_DELAY_NEW|ARR_DEL15|ARR_DELAY_GROUP|CANCELLED|CANCELLATION_CODE|DIVERTED|CARRIER_DELAY|WEATHER_DELAY|NAS_DELAY|SECURITY_DELAY|LATE_AIRCRAFT_DELAY|\n",
      "+---+----+-----+-------------+-----------------+-----------------+-----------------+---------------+---------+-------------+---------+---------------+---------+-------------+---------+---------------+---------+-----------------+--------+-------------+-------------+---------+--------------+-------------------+\n",
      "|  1|2018|    1|1/26/18 00:00|               UA|             1252|            14683|          12266|       -7|            0|        0|             -1|      -12|            0|        0|             -1|        0|               NA|       0|           NA|           NA|       NA|            NA|                 NA|\n",
      "|  2|2018|    1|1/26/18 00:00|               UA|             1251|            10721|          13930|       -9|            0|        0|             -1|      -26|            0|        0|             -2|        0|               NA|       0|           NA|           NA|       NA|            NA|                 NA|\n",
      "|  3|2018|    1|1/26/18 00:00|               UA|             1250|            13930|          11423|        7|            7|        0|              0|        7|            7|        0|              0|        0|               NA|       0|           NA|           NA|       NA|            NA|                 NA|\n",
      "|  4|2018|    1|1/26/18 00:00|               UA|             1248|            11618|          13930|       -8|            0|        0|             -1|      -27|            0|        0|             -2|        0|               NA|       0|           NA|           NA|       NA|            NA|                 NA|\n",
      "|  5|2018|    1|1/26/18 00:00|               UA|             1247|            11278|          12266|       -7|            0|        0|             -1|        1|            1|        0|              0|        0|               NA|       0|           NA|           NA|       NA|            NA|                 NA|\n",
      "+---+----+-----+-------------+-----------------+-----------------+-----------------+---------------+---------+-------------+---------+---------------+---------+-------------+---------+---------------+---------+-----------------+--------+-------------+-------------+---------+--------------+-------------------+\n",
      "only showing top 5 rows\n",
      "\n"
     ]
    }
   ],
   "source": [
    "df.show(5)"
   ]
  },
  {
   "cell_type": "markdown",
   "id": "b9298146",
   "metadata": {},
   "source": [
    "### Seleção apenas das colunas relevantes"
   ]
  },
  {
   "cell_type": "code",
   "execution_count": 19,
   "id": "46d9e55f",
   "metadata": {},
   "outputs": [],
   "source": [
    "selected_columns = [\n",
    "    \"YEAR\", \"MONTH\", \"FL_DATE\", \"OP_UNIQUE_CARRIER\", \"ORIGIN_AIRPORT_ID\", \n",
    "    \"DEST_AIRPORT_ID\", \"DEP_DELAY\", \"ARR_DELAY\", \"CANCELLED\", \"DIVERTED\", \n",
    "    \"CARRIER_DELAY\", \"WEATHER_DELAY\", \"NAS_DELAY\", \"SECURITY_DELAY\", \"LATE_AIRCRAFT_DELAY\"\n",
    "]\n",
    "\n",
    "df = df.select(*selected_columns)"
   ]
  },
  {
   "cell_type": "code",
   "execution_count": 20,
   "id": "b46f087a",
   "metadata": {},
   "outputs": [
    {
     "name": "stdout",
     "output_type": "stream",
     "text": [
      "+----+-----+-------------+-----------------+-----------------+---------------+---------+---------+---------+--------+-------------+-------------+---------+--------------+-------------------+\n",
      "|YEAR|MONTH|      FL_DATE|OP_UNIQUE_CARRIER|ORIGIN_AIRPORT_ID|DEST_AIRPORT_ID|DEP_DELAY|ARR_DELAY|CANCELLED|DIVERTED|CARRIER_DELAY|WEATHER_DELAY|NAS_DELAY|SECURITY_DELAY|LATE_AIRCRAFT_DELAY|\n",
      "+----+-----+-------------+-----------------+-----------------+---------------+---------+---------+---------+--------+-------------+-------------+---------+--------------+-------------------+\n",
      "|2018|    1|1/26/18 00:00|               UA|            14683|          12266|       -7|      -12|        0|       0|           NA|           NA|       NA|            NA|                 NA|\n",
      "|2018|    1|1/26/18 00:00|               UA|            10721|          13930|       -9|      -26|        0|       0|           NA|           NA|       NA|            NA|                 NA|\n",
      "|2018|    1|1/26/18 00:00|               UA|            13930|          11423|        7|        7|        0|       0|           NA|           NA|       NA|            NA|                 NA|\n",
      "|2018|    1|1/26/18 00:00|               UA|            11618|          13930|       -8|      -27|        0|       0|           NA|           NA|       NA|            NA|                 NA|\n",
      "|2018|    1|1/26/18 00:00|               UA|            11278|          12266|       -7|        1|        0|       0|           NA|           NA|       NA|            NA|                 NA|\n",
      "+----+-----+-------------+-----------------+-----------------+---------------+---------+---------+---------+--------+-------------+-------------+---------+--------------+-------------------+\n",
      "only showing top 5 rows\n",
      "\n"
     ]
    }
   ],
   "source": [
    "df.show(5)"
   ]
  },
  {
   "cell_type": "markdown",
   "id": "f196e1df",
   "metadata": {},
   "source": [
    "### Renomeação das colunas para snake_case"
   ]
  },
  {
   "cell_type": "code",
   "execution_count": 23,
   "id": "9f32d199",
   "metadata": {},
   "outputs": [],
   "source": [
    "df = df.withColumnRenamed(\"YEAR\", \"year\") \\\n",
    "       .withColumnRenamed(\"MONTH\", \"month\") \\\n",
    "       .withColumnRenamed(\"FL_DATE\", \"flight_date\") \\\n",
    "       .withColumnRenamed(\"OP_UNIQUE_CARRIER\", \"carrier\") \\\n",
    "       .withColumnRenamed(\"ORIGIN_AIRPORT_ID\", \"origin_airport_id\") \\\n",
    "       .withColumnRenamed(\"DEST_AIRPORT_ID\", \"dest_airport_id\") \\\n",
    "       .withColumnRenamed(\"DEP_DELAY\", \"departure_delay\") \\\n",
    "       .withColumnRenamed(\"ARR_DELAY\", \"arrival_delay\") \\\n",
    "       .withColumnRenamed(\"CANCELLED\", \"cancelled\") \\\n",
    "       .withColumnRenamed(\"DIVERTED\", \"diverted\") \\\n",
    "       .withColumnRenamed(\"CARRIER_DELAY\", \"carrier_delay\") \\\n",
    "       .withColumnRenamed(\"WEATHER_DELAY\", \"weather_delay\") \\\n",
    "       .withColumnRenamed(\"NAS_DELAY\", \"nas_delay\") \\\n",
    "       .withColumnRenamed(\"SECURITY_DELAY\", \"security_delay\") \\\n",
    "       .withColumnRenamed(\"LATE_AIRCRAFT_DELAY\", \"late_aircraft_delay\")"
   ]
  },
  {
   "cell_type": "code",
   "execution_count": 24,
   "id": "07b3bbf3",
   "metadata": {},
   "outputs": [
    {
     "name": "stdout",
     "output_type": "stream",
     "text": [
      "+----+-----+-------------+-------+-----------------+---------------+---------------+-------------+---------+--------+-------------+-------------+---------+--------------+-------------------+\n",
      "|year|month|  flight_date|carrier|origin_airport_id|dest_airport_id|departure_delay|arrival_delay|cancelled|diverted|carrier_delay|weather_delay|nas_delay|security_delay|late_aircraft_delay|\n",
      "+----+-----+-------------+-------+-----------------+---------------+---------------+-------------+---------+--------+-------------+-------------+---------+--------------+-------------------+\n",
      "|2018|    1|1/26/18 00:00|     UA|            14683|          12266|             -7|          -12|        0|       0|           NA|           NA|       NA|            NA|                 NA|\n",
      "|2018|    1|1/26/18 00:00|     UA|            10721|          13930|             -9|          -26|        0|       0|           NA|           NA|       NA|            NA|                 NA|\n",
      "|2018|    1|1/26/18 00:00|     UA|            13930|          11423|              7|            7|        0|       0|           NA|           NA|       NA|            NA|                 NA|\n",
      "|2018|    1|1/26/18 00:00|     UA|            11618|          13930|             -8|          -27|        0|       0|           NA|           NA|       NA|            NA|                 NA|\n",
      "|2018|    1|1/26/18 00:00|     UA|            11278|          12266|             -7|            1|        0|       0|           NA|           NA|       NA|            NA|                 NA|\n",
      "+----+-----+-------------+-------+-----------------+---------------+---------------+-------------+---------+--------+-------------+-------------+---------+--------------+-------------------+\n",
      "only showing top 5 rows\n",
      "\n"
     ]
    }
   ],
   "source": [
    "df.show(5)"
   ]
  },
  {
   "cell_type": "markdown",
   "id": "2fd36970",
   "metadata": {},
   "source": [
    "## Conversão de Tipos"
   ]
  },
  {
   "cell_type": "markdown",
   "id": "5047b65b",
   "metadata": {},
   "source": [
    "### Conversão para DoubleType"
   ]
  },
  {
   "cell_type": "code",
   "execution_count": 27,
   "id": "17c475d3",
   "metadata": {},
   "outputs": [
    {
     "data": {
      "text/plain": [
       "[('year', 'int'),\n",
       " ('month', 'int'),\n",
       " ('flight_date', 'string'),\n",
       " ('carrier', 'string'),\n",
       " ('origin_airport_id', 'int'),\n",
       " ('dest_airport_id', 'int'),\n",
       " ('departure_delay', 'string'),\n",
       " ('arrival_delay', 'string'),\n",
       " ('cancelled', 'int'),\n",
       " ('diverted', 'int'),\n",
       " ('carrier_delay', 'string'),\n",
       " ('weather_delay', 'string'),\n",
       " ('nas_delay', 'string'),\n",
       " ('security_delay', 'string'),\n",
       " ('late_aircraft_delay', 'string')]"
      ]
     },
     "execution_count": 27,
     "metadata": {},
     "output_type": "execute_result"
    }
   ],
   "source": [
    "df.dtypes"
   ]
  },
  {
   "cell_type": "code",
   "execution_count": 28,
   "id": "af5346f2",
   "metadata": {},
   "outputs": [],
   "source": [
    "numeric_columns = [\n",
    "    \"departure_delay\", \"arrival_delay\", \"carrier_delay\", \"weather_delay\", \n",
    "    \"nas_delay\", \"security_delay\", \"late_aircraft_delay\"\n",
    "]\n",
    "\n",
    "for col_name in numeric_columns:\n",
    "  df = df.withColumn(col_name, col(col_name).cast(DoubleType()))"
   ]
  },
  {
   "cell_type": "code",
   "execution_count": 30,
   "id": "d6891d3e",
   "metadata": {},
   "outputs": [
    {
     "data": {
      "text/plain": [
       "[('year', 'int'),\n",
       " ('month', 'int'),\n",
       " ('flight_date', 'string'),\n",
       " ('carrier', 'string'),\n",
       " ('origin_airport_id', 'int'),\n",
       " ('dest_airport_id', 'int'),\n",
       " ('departure_delay', 'double'),\n",
       " ('arrival_delay', 'double'),\n",
       " ('cancelled', 'int'),\n",
       " ('diverted', 'int'),\n",
       " ('carrier_delay', 'double'),\n",
       " ('weather_delay', 'double'),\n",
       " ('nas_delay', 'double'),\n",
       " ('security_delay', 'double'),\n",
       " ('late_aircraft_delay', 'double')]"
      ]
     },
     "execution_count": 30,
     "metadata": {},
     "output_type": "execute_result"
    }
   ],
   "source": [
    "df.dtypes"
   ]
  },
  {
   "cell_type": "markdown",
   "id": "416f2820",
   "metadata": {},
   "source": [
    "### Conversão das colunas (\"cancelled\" e \"diverted\") para IntegerType"
   ]
  },
  {
   "cell_type": "code",
   "execution_count": 35,
   "id": "cd2be417",
   "metadata": {},
   "outputs": [],
   "source": [
    "df = df.withColumn(\"cancelled\", col(\"cancelled\").cast(IntegerType())) \\\n",
    "       .withColumn(\"diverted\", col(\"diverted\").cast(IntegerType()))\n"
   ]
  },
  {
   "cell_type": "code",
   "execution_count": 36,
   "id": "67772e97",
   "metadata": {},
   "outputs": [
    {
     "data": {
      "text/plain": [
       "[('year', 'int'),\n",
       " ('month', 'int'),\n",
       " ('flight_date', 'string'),\n",
       " ('carrier', 'string'),\n",
       " ('origin_airport_id', 'int'),\n",
       " ('dest_airport_id', 'int'),\n",
       " ('departure_delay', 'double'),\n",
       " ('arrival_delay', 'double'),\n",
       " ('cancelled', 'int'),\n",
       " ('diverted', 'int'),\n",
       " ('carrier_delay', 'double'),\n",
       " ('weather_delay', 'double'),\n",
       " ('nas_delay', 'double'),\n",
       " ('security_delay', 'double'),\n",
       " ('late_aircraft_delay', 'double')]"
      ]
     },
     "execution_count": 36,
     "metadata": {},
     "output_type": "execute_result"
    }
   ],
   "source": [
    "df.dtypes"
   ]
  },
  {
   "cell_type": "code",
   "execution_count": 37,
   "id": "2bb6d76d",
   "metadata": {},
   "outputs": [],
   "source": [
    "spark.stop()"
   ]
  }
 ],
 "metadata": {
  "kernelspec": {
   "display_name": "Python 3",
   "language": "python",
   "name": "python3"
  },
  "language_info": {
   "codemirror_mode": {
    "name": "ipython",
    "version": 3
   },
   "file_extension": ".py",
   "mimetype": "text/x-python",
   "name": "python",
   "nbconvert_exporter": "python",
   "pygments_lexer": "ipython3",
   "version": "3.12.2"
  }
 },
 "nbformat": 4,
 "nbformat_minor": 5
}
